{
 "cells": [
  {
   "cell_type": "markdown",
   "metadata": {},
   "source": [
    "# Soluzioni"
   ]
  },
  {
   "cell_type": "markdown",
   "metadata": {},
   "source": [
    "Create una variabile che faccia riferimento al risultato della somma di due numeri e stampatela."
   ]
  },
  {
   "cell_type": "code",
   "execution_count": null,
   "metadata": {},
   "outputs": [],
   "source": [
    "def stampa(numero):\n",
    "    print(numero)\n",
    "    \n",
    "messaggio = 2 + 2\n",
    "\n",
    "stampa(messaggio)"
   ]
  },
  {
   "cell_type": "markdown",
   "metadata": {},
   "source": [
    "Aprite il documento Credits.txt e copiatene il contenuto nel documento prova.txt."
   ]
  },
  {
   "cell_type": "code",
   "execution_count": null,
   "metadata": {},
   "outputs": [],
   "source": [
    "origine = open(\"doaj/Credits.txt\", \"r\")\n",
    "\n",
    "destinazione = open(\"txt/prova.txt\", \"w\")\n",
    "\n",
    "for riga in origine:\n",
    "    destinazione.write(riga)\n",
    "    \n",
    "destinazione.close()\n",
    "\n",
    "origine.close()"
   ]
  },
  {
   "cell_type": "markdown",
   "metadata": {},
   "source": [
    "Mostrate la distribuzione delle registrazioni nel documento titles.csv per lingua."
   ]
  },
  {
   "cell_type": "code",
   "execution_count": null,
   "metadata": {},
   "outputs": [],
   "source": [
    "import pandas as pd\n",
    "\n",
    "dfTIT = pd.read_csv('british_library/titles.csv')\n",
    "\n",
    "series = dfTIT.groupby(['Languages']).size()\n",
    "\n",
    "series.plot.bar(figsize = (11.7, 8.3))"
   ]
  },
  {
   "cell_type": "markdown",
   "metadata": {},
   "source": [
    "Aggiungete una coppia nome valore ('CORSO': 'Py_AL') a tutti gli gli elementi della lista e salvare il dizionario in formato JSON."
   ]
  },
  {
   "cell_type": "code",
   "execution_count": null,
   "metadata": {},
   "outputs": [],
   "source": [
    "import json\n",
    "\n",
    "with open('regione_toscana/ArchiviAllxOD.json') as documento:\n",
    "  dati = json.load(documento)\n",
    "\n",
    "for indice, valore in enumerate(dati['ArchiviAllxOD']['SelArchivi']):\n",
    "    dati['ArchiviAllxOD']['SelArchivi'][indice].update({'CORSO' : 'Py_AL'})\n",
    "    \n",
    "with open('regione_toscana/ArchiviAllxOD_PyAL.json', 'w') as destinazione: \n",
    "    json.dump(dati, destinazione, indent = 4)"
   ]
  },
  {
   "cell_type": "markdown",
   "metadata": {},
   "source": [
    "Verificate se il numero degli autori elencati nel campo Authors corrisponda al numero degli autori indicato nel campo Author_Count del documento articles_Py_AL.csv."
   ]
  },
  {
   "cell_type": "code",
   "execution_count": null,
   "metadata": {},
   "outputs": [],
   "source": [
    "import pandas as pd\n",
    "\n",
    "df = pd.read_csv(\"doaj/articles_Py_AL.csv\")\n",
    "\n",
    "for index, row in df.iterrows():\n",
    "    numero_autori1 = df['Authors'][index].count('|') + 1\n",
    "    numero_autori2 = row['Author_Count']\n",
    "    if numero_autori1 != numero_autori2:\n",
    "        print(index, end = ': ')\n",
    "        print(numero_autori1 - numero_autori2, end = ', ')"
   ]
  }
 ],
 "metadata": {
  "kernelspec": {
   "display_name": "Python 3",
   "language": "python",
   "name": "python3"
  },
  "language_info": {
   "codemirror_mode": {
    "name": "ipython",
    "version": 3
   },
   "file_extension": ".py",
   "mimetype": "text/x-python",
   "name": "python",
   "nbconvert_exporter": "python",
   "pygments_lexer": "ipython3",
   "version": "3.8.1"
  }
 },
 "nbformat": 4,
 "nbformat_minor": 4
}
