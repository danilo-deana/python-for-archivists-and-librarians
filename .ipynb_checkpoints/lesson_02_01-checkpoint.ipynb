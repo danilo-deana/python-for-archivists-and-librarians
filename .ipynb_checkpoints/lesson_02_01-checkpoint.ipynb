{
 "cells": [
  {
   "cell_type": "markdown",
   "metadata": {},
   "source": [
    "# Elenco delle risorse cui l'Università di Milano ha diritto di accedere"
   ]
  },
  {
   "cell_type": "code",
   "execution_count": 9,
   "metadata": {},
   "outputs": [
    {
     "name": "stdout",
     "output_type": "stream",
     "text": [
      "<class 'pandas.core.frame.DataFrame'>\n",
      "RangeIndex: 24450 entries, 0 to 24449\n",
      "Data columns (total 21 columns):\n",
      " #   Column                   Non-Null Count  Dtype  \n",
      "---  ------                   --------------  -----  \n",
      " 0   Publication Type         24450 non-null  object \n",
      " 1   Journal Code             2215 non-null   object \n",
      " 2   Title                    24450 non-null  object \n",
      " 3   DOI                      24450 non-null  object \n",
      " 4   Author                   9854 non-null   object \n",
      " 5   Print ISSN               2190 non-null   object \n",
      " 6   Online ISSN              2213 non-null   object \n",
      " 7   Print ISBN               21785 non-null  float64\n",
      " 8   Online ISBN              22235 non-null  float64\n",
      " 9   Homepage URL             24450 non-null  object \n",
      " 10  List of Issues URL       2215 non-null   object \n",
      " 11  Open URL                 24450 non-null  object \n",
      " 12  Online Publication Date  22235 non-null  object \n",
      " 13  Journal Start Year       2211 non-null   float64\n",
      " 14  Journal End Year         2215 non-null   float64\n",
      " 15  Back File End Year       1356 non-null   float64\n",
      " 16  Front File Start Year    1356 non-null   float64\n",
      " 17  Content Start Date       2215 non-null   object \n",
      " 18  Content End Date         2215 non-null   object \n",
      " 19  License Start Date       24450 non-null  object \n",
      " 20  License End Date         24450 non-null  object \n",
      "dtypes: float64(6), object(15)\n",
      "memory usage: 3.9+ MB\n"
     ]
    }
   ],
   "source": [
    "import pandas as pd\n",
    "\n",
    "pd.set_option('display.max_columns', None)\n",
    "\n",
    "df01 = pd.read_csv('wiley/Customer access report 2019.csv', sep = '\\t')\n",
    "\n",
    "df01.info()"
   ]
  },
  {
   "cell_type": "markdown",
   "metadata": {},
   "source": [
    "# Elenco delle risorse di cui è stato scaricato un articolo o un capitolo"
   ]
  },
  {
   "cell_type": "code",
   "execution_count": 2,
   "metadata": {},
   "outputs": [
    {
     "name": "stdout",
     "output_type": "stream",
     "text": [
      "<class 'pandas.core.frame.DataFrame'>\n",
      "RangeIndex: 22557 entries, 0 to 22556\n",
      "Data columns (total 24 columns):\n",
      " #   Column                  Non-Null Count  Dtype  \n",
      "---  ------                  --------------  -----  \n",
      " 0   Title                   22557 non-null  object \n",
      " 1   Publisher               22557 non-null  object \n",
      " 2   Publisher_ID            22557 non-null  object \n",
      " 3   Platform                22557 non-null  object \n",
      " 4   DOI                     22557 non-null  object \n",
      " 5   Proprietary_ID          8040 non-null   object \n",
      " 6   ISBN                    14507 non-null  object \n",
      " 7   Print_ISSN              7959 non-null   object \n",
      " 8   Online_ISSN             8026 non-null   object \n",
      " 9   URI                     0 non-null      float64\n",
      " 10  Metric_Type             22557 non-null  object \n",
      " 11  Reporting_Period_Total  22557 non-null  int64  \n",
      " 12  Jan-2019                22557 non-null  int64  \n",
      " 13  Feb-2019                22557 non-null  int64  \n",
      " 14  Mar-2019                22557 non-null  int64  \n",
      " 15  Apr-2019                22557 non-null  int64  \n",
      " 16  May-2019                22557 non-null  int64  \n",
      " 17  Jun-2019                22557 non-null  int64  \n",
      " 18  Jul-2019                22557 non-null  int64  \n",
      " 19  Aug-2019                22557 non-null  int64  \n",
      " 20  Sep-2019                22557 non-null  int64  \n",
      " 21  Oct-2019                22557 non-null  int64  \n",
      " 22  Nov-2019                22557 non-null  int64  \n",
      " 23  Dec-2019                22557 non-null  int64  \n",
      "dtypes: float64(1), int64(13), object(10)\n",
      "memory usage: 4.1+ MB\n"
     ]
    }
   ],
   "source": [
    "import pandas as pd\n",
    "\n",
    "df02 = pd.read_csv('wiley/Title Master Report 2019.csv', sep = '\\t', skiprows = 13)\n",
    "\n",
    "df02.info()"
   ]
  },
  {
   "cell_type": "code",
   "execution_count": 12,
   "metadata": {},
   "outputs": [
    {
     "data": {
      "text/html": [
       "<div>\n",
       "<style scoped>\n",
       "    .dataframe tbody tr th:only-of-type {\n",
       "        vertical-align: middle;\n",
       "    }\n",
       "\n",
       "    .dataframe tbody tr th {\n",
       "        vertical-align: top;\n",
       "    }\n",
       "\n",
       "    .dataframe thead th {\n",
       "        text-align: right;\n",
       "    }\n",
       "</style>\n",
       "<table border=\"1\" class=\"dataframe\">\n",
       "  <thead>\n",
       "    <tr style=\"text-align: right;\">\n",
       "      <th></th>\n",
       "      <th>Title</th>\n",
       "      <th>Publisher</th>\n",
       "      <th>Publisher_ID</th>\n",
       "      <th>Platform</th>\n",
       "      <th>DOI</th>\n",
       "      <th>Proprietary_ID</th>\n",
       "      <th>ISBN</th>\n",
       "      <th>Print_ISSN</th>\n",
       "      <th>Online_ISSN</th>\n",
       "      <th>URI</th>\n",
       "      <th>Metric_Type</th>\n",
       "      <th>Reporting_Period_Total</th>\n",
       "      <th>Jan-2019</th>\n",
       "      <th>Feb-2019</th>\n",
       "      <th>Mar-2019</th>\n",
       "      <th>Apr-2019</th>\n",
       "      <th>May-2019</th>\n",
       "      <th>Jun-2019</th>\n",
       "      <th>Jul-2019</th>\n",
       "      <th>Aug-2019</th>\n",
       "      <th>Sep-2019</th>\n",
       "      <th>Oct-2019</th>\n",
       "      <th>Nov-2019</th>\n",
       "      <th>Dec-2019</th>\n",
       "    </tr>\n",
       "  </thead>\n",
       "  <tbody>\n",
       "    <tr>\n",
       "      <th>0</th>\n",
       "      <td>ACR Open Rheumatology</td>\n",
       "      <td>Wiley</td>\n",
       "      <td>ISNI:0000000403801313</td>\n",
       "      <td>Wiley Online Library</td>\n",
       "      <td>10.1002/(ISSN)2578-5745</td>\n",
       "      <td>Wiley:ACR2</td>\n",
       "      <td>NaN</td>\n",
       "      <td>NaN</td>\n",
       "      <td>2578-5745</td>\n",
       "      <td>NaN</td>\n",
       "      <td>Total_Item_Investigations</td>\n",
       "      <td>2</td>\n",
       "      <td>0</td>\n",
       "      <td>0</td>\n",
       "      <td>0</td>\n",
       "      <td>0</td>\n",
       "      <td>0</td>\n",
       "      <td>0</td>\n",
       "      <td>0</td>\n",
       "      <td>0</td>\n",
       "      <td>0</td>\n",
       "      <td>0</td>\n",
       "      <td>0</td>\n",
       "      <td>2</td>\n",
       "    </tr>\n",
       "    <tr>\n",
       "      <th>1</th>\n",
       "      <td>ACR Open Rheumatology</td>\n",
       "      <td>Wiley</td>\n",
       "      <td>ISNI:0000000403801313</td>\n",
       "      <td>Wiley Online Library</td>\n",
       "      <td>10.1002/(ISSN)2578-5745</td>\n",
       "      <td>Wiley:ACR2</td>\n",
       "      <td>NaN</td>\n",
       "      <td>NaN</td>\n",
       "      <td>2578-5745</td>\n",
       "      <td>NaN</td>\n",
       "      <td>Total_Item_Requests</td>\n",
       "      <td>2</td>\n",
       "      <td>0</td>\n",
       "      <td>0</td>\n",
       "      <td>0</td>\n",
       "      <td>0</td>\n",
       "      <td>0</td>\n",
       "      <td>0</td>\n",
       "      <td>0</td>\n",
       "      <td>0</td>\n",
       "      <td>0</td>\n",
       "      <td>0</td>\n",
       "      <td>0</td>\n",
       "      <td>2</td>\n",
       "    </tr>\n",
       "    <tr>\n",
       "      <th>2</th>\n",
       "      <td>ACR Open Rheumatology</td>\n",
       "      <td>Wiley</td>\n",
       "      <td>ISNI:0000000403801313</td>\n",
       "      <td>Wiley Online Library</td>\n",
       "      <td>10.1002/(ISSN)2578-5745</td>\n",
       "      <td>Wiley:ACR2</td>\n",
       "      <td>NaN</td>\n",
       "      <td>NaN</td>\n",
       "      <td>2578-5745</td>\n",
       "      <td>NaN</td>\n",
       "      <td>Unique_Item_Investigations</td>\n",
       "      <td>1</td>\n",
       "      <td>0</td>\n",
       "      <td>0</td>\n",
       "      <td>0</td>\n",
       "      <td>0</td>\n",
       "      <td>0</td>\n",
       "      <td>0</td>\n",
       "      <td>0</td>\n",
       "      <td>0</td>\n",
       "      <td>0</td>\n",
       "      <td>0</td>\n",
       "      <td>0</td>\n",
       "      <td>1</td>\n",
       "    </tr>\n",
       "    <tr>\n",
       "      <th>3</th>\n",
       "      <td>ACR Open Rheumatology</td>\n",
       "      <td>Wiley</td>\n",
       "      <td>ISNI:0000000403801313</td>\n",
       "      <td>Wiley Online Library</td>\n",
       "      <td>10.1002/(ISSN)2578-5745</td>\n",
       "      <td>Wiley:ACR2</td>\n",
       "      <td>NaN</td>\n",
       "      <td>NaN</td>\n",
       "      <td>2578-5745</td>\n",
       "      <td>NaN</td>\n",
       "      <td>Unique_Item_Requests</td>\n",
       "      <td>1</td>\n",
       "      <td>0</td>\n",
       "      <td>0</td>\n",
       "      <td>0</td>\n",
       "      <td>0</td>\n",
       "      <td>0</td>\n",
       "      <td>0</td>\n",
       "      <td>0</td>\n",
       "      <td>0</td>\n",
       "      <td>0</td>\n",
       "      <td>0</td>\n",
       "      <td>0</td>\n",
       "      <td>1</td>\n",
       "    </tr>\n",
       "    <tr>\n",
       "      <th>4</th>\n",
       "      <td>ADVANCES IN CELL AND GENE THERAPY</td>\n",
       "      <td>Wiley</td>\n",
       "      <td>ISNI:0000000403801313</td>\n",
       "      <td>Wiley Online Library</td>\n",
       "      <td>10.1002/(ISSN)2573-8461</td>\n",
       "      <td>Wiley:ACG2</td>\n",
       "      <td>NaN</td>\n",
       "      <td>NaN</td>\n",
       "      <td>2573-8461</td>\n",
       "      <td>NaN</td>\n",
       "      <td>Total_Item_Investigations</td>\n",
       "      <td>15</td>\n",
       "      <td>6</td>\n",
       "      <td>0</td>\n",
       "      <td>0</td>\n",
       "      <td>4</td>\n",
       "      <td>3</td>\n",
       "      <td>2</td>\n",
       "      <td>0</td>\n",
       "      <td>0</td>\n",
       "      <td>0</td>\n",
       "      <td>0</td>\n",
       "      <td>0</td>\n",
       "      <td>0</td>\n",
       "    </tr>\n",
       "  </tbody>\n",
       "</table>\n",
       "</div>"
      ],
      "text/plain": [
       "                               Title Publisher           Publisher_ID  \\\n",
       "0              ACR Open Rheumatology     Wiley  ISNI:0000000403801313   \n",
       "1              ACR Open Rheumatology     Wiley  ISNI:0000000403801313   \n",
       "2              ACR Open Rheumatology     Wiley  ISNI:0000000403801313   \n",
       "3              ACR Open Rheumatology     Wiley  ISNI:0000000403801313   \n",
       "4  ADVANCES IN CELL AND GENE THERAPY     Wiley  ISNI:0000000403801313   \n",
       "\n",
       "               Platform                      DOI Proprietary_ID ISBN  \\\n",
       "0  Wiley Online Library  10.1002/(ISSN)2578-5745     Wiley:ACR2  NaN   \n",
       "1  Wiley Online Library  10.1002/(ISSN)2578-5745     Wiley:ACR2  NaN   \n",
       "2  Wiley Online Library  10.1002/(ISSN)2578-5745     Wiley:ACR2  NaN   \n",
       "3  Wiley Online Library  10.1002/(ISSN)2578-5745     Wiley:ACR2  NaN   \n",
       "4  Wiley Online Library  10.1002/(ISSN)2573-8461     Wiley:ACG2  NaN   \n",
       "\n",
       "  Print_ISSN Online_ISSN  URI                 Metric_Type  \\\n",
       "0        NaN   2578-5745  NaN   Total_Item_Investigations   \n",
       "1        NaN   2578-5745  NaN         Total_Item_Requests   \n",
       "2        NaN   2578-5745  NaN  Unique_Item_Investigations   \n",
       "3        NaN   2578-5745  NaN        Unique_Item_Requests   \n",
       "4        NaN   2573-8461  NaN   Total_Item_Investigations   \n",
       "\n",
       "   Reporting_Period_Total  Jan-2019  Feb-2019  Mar-2019  Apr-2019  May-2019  \\\n",
       "0                       2         0         0         0         0         0   \n",
       "1                       2         0         0         0         0         0   \n",
       "2                       1         0         0         0         0         0   \n",
       "3                       1         0         0         0         0         0   \n",
       "4                      15         6         0         0         4         3   \n",
       "\n",
       "   Jun-2019  Jul-2019  Aug-2019  Sep-2019  Oct-2019  Nov-2019  Dec-2019  \n",
       "0         0         0         0         0         0         0         2  \n",
       "1         0         0         0         0         0         0         2  \n",
       "2         0         0         0         0         0         0         1  \n",
       "3         0         0         0         0         0         0         1  \n",
       "4         2         0         0         0         0         0         0  "
      ]
     },
     "execution_count": 12,
     "metadata": {},
     "output_type": "execute_result"
    }
   ],
   "source": [
    "pd.set_option('display.max_columns', None)\n",
    "\n",
    "df02.head()"
   ]
  },
  {
   "cell_type": "markdown",
   "metadata": {},
   "source": [
    "# Elenco dei periodici correnti"
   ]
  },
  {
   "cell_type": "code",
   "execution_count": 3,
   "metadata": {},
   "outputs": [
    {
     "name": "stdout",
     "output_type": "stream",
     "text": [
      "<class 'pandas.core.frame.DataFrame'>\n",
      "RangeIndex: 1537 entries, 0 to 1536\n",
      "Data columns (total 32 columns):\n",
      " #   Column                                             Non-Null Count  Dtype  \n",
      "---  ------                                             --------------  -----  \n",
      " 0   Journal Code                                       1517 non-null   object \n",
      " 1   P-ISSN                                             1410 non-null   object \n",
      " 2   E-ISSN                                             1509 non-null   object \n",
      " 3   Title                                              1517 non-null   object \n",
      " 4   FTE Band (if applicable)                           107 non-null    object \n",
      " 5   Journal DOI                                        1506 non-null   object \n",
      " 6   Wiley  Online Library URL                          1511 non-null   object \n",
      " 7   General Subject Category                           1515 non-null   object \n",
      " 8   Primary Subject Area                               1515 non-null   object \n",
      " 9   Media                                              1517 non-null   object \n",
      " 10  External notes PRICING                             605 non-null    object \n",
      " 11  POD availability                                   311 non-null    object \n",
      " 12  Online Open                                        1515 non-null   object \n",
      " 13  Included in Database Model                         1517 non-null   object \n",
      " 14  Full Collection                                    1403 non-null   object \n",
      " 15  STM Collection                                     854 non-null    object \n",
      " 16  SSH Collection                                     549 non-null    object \n",
      " 17  Medicine & Nursing Collection                      405 non-null    object \n",
      " 18  Not in any Standard Collections                    111 non-null    object \n",
      " 19  R4L Collection                                     1295 non-null   object \n",
      " 20  Collection Start year/Start year for Current Sub   1503 non-null   float64\n",
      " 21  Collection Start Volume/Start Vol for current Sub  1497 non-null   float64\n",
      " 22  Current Year Volume                                1510 non-null   object \n",
      " 23  Current Year Issue                                 1510 non-null   float64\n",
      " 24  Backfile Start Year                                946 non-null    float64\n",
      " 25  Backfile Start Volume                              905 non-null    object \n",
      " 26  Backfile Start Issue                               895 non-null    object \n",
      " 27  Backfile End Year                                  946 non-null    float64\n",
      " 28  Backfile End Volume                                891 non-null    float64\n",
      " 29  Backfile End Issue                                 891 non-null    object \n",
      " 30  Society Name                                       985 non-null    object \n",
      " 31  Impact Factor                                      1135 non-null   object \n",
      "dtypes: float64(6), object(26)\n",
      "memory usage: 384.4+ KB\n"
     ]
    }
   ],
   "source": [
    "import pandas as pd\n",
    "\n",
    "df03 = pd.read_excel('wiley/all_wiley-blackwell_journals 2019.xls',\n",
    "    sheet_name = \"Subscription Journals\", skiprows = 3)\n",
    "\n",
    "df03.info()"
   ]
  },
  {
   "cell_type": "markdown",
   "metadata": {},
   "source": [
    "# Unione"
   ]
  },
  {
   "cell_type": "code",
   "execution_count": 18,
   "metadata": {},
   "outputs": [
    {
     "name": "stdout",
     "output_type": "stream",
     "text": [
      "<class 'pandas.core.frame.DataFrame'>\n",
      "Int64Index: 2215 entries, 307 to 24412\n",
      "Data columns (total 21 columns):\n",
      " #   Column                   Non-Null Count  Dtype  \n",
      "---  ------                   --------------  -----  \n",
      " 0   Publication Type         2215 non-null   object \n",
      " 1   Journal Code             2215 non-null   object \n",
      " 2   Title                    2215 non-null   object \n",
      " 3   DOI                      2215 non-null   object \n",
      " 4   Author                   0 non-null      object \n",
      " 5   Print ISSN               2190 non-null   object \n",
      " 6   Online ISSN              2213 non-null   object \n",
      " 7   Print ISBN               0 non-null      float64\n",
      " 8   Online ISBN              0 non-null      float64\n",
      " 9   Homepage URL             2215 non-null   object \n",
      " 10  List of Issues URL       2215 non-null   object \n",
      " 11  Open URL                 2215 non-null   object \n",
      " 12  Online Publication Date  0 non-null      object \n",
      " 13  Journal Start Year       2211 non-null   float64\n",
      " 14  Journal End Year         2215 non-null   float64\n",
      " 15  Back File End Year       1356 non-null   float64\n",
      " 16  Front File Start Year    1356 non-null   float64\n",
      " 17  Content Start Date       2215 non-null   object \n",
      " 18  Content End Date         2215 non-null   object \n",
      " 19  License Start Date       2215 non-null   object \n",
      " 20  License End Date         2215 non-null   object \n",
      "dtypes: float64(6), object(15)\n",
      "memory usage: 380.7+ KB\n"
     ]
    }
   ],
   "source": [
    "df01_TMP01 = df01[(df01['Print ISSN'].notnull()) | (df01['Online ISSN'].notnull())]\n",
    "\n",
    "df01_TMP01.info()"
   ]
  },
  {
   "cell_type": "code",
   "execution_count": 19,
   "metadata": {},
   "outputs": [],
   "source": [
    "df02_TMP01 = df02[['DOI', 'Metric_Type', 'Reporting_Period_Total']]\n",
    "\n",
    "df02_TMP02 = df02_TMP01[df02_TMP01['Metric_Type'] == 'Total_Item_Requests']"
   ]
  },
  {
   "cell_type": "code",
   "execution_count": 26,
   "metadata": {},
   "outputs": [],
   "source": [
    "df03.rename(columns = {\"Journal DOI\": \"DOI\"}, inplace = True)\n",
    "\n",
    "df03['currently_published'] = True\n",
    "\n",
    "df03_TMP01 = df03[['DOI', 'currently_published']]"
   ]
  },
  {
   "cell_type": "code",
   "execution_count": 27,
   "metadata": {},
   "outputs": [
    {
     "name": "stdout",
     "output_type": "stream",
     "text": [
      "<class 'pandas.core.frame.DataFrame'>\n",
      "Int64Index: 2215 entries, 0 to 2214\n",
      "Data columns (total 24 columns):\n",
      " #   Column                   Non-Null Count  Dtype  \n",
      "---  ------                   --------------  -----  \n",
      " 0   Publication Type         2215 non-null   object \n",
      " 1   Journal Code             2215 non-null   object \n",
      " 2   Title                    2215 non-null   object \n",
      " 3   DOI                      2215 non-null   object \n",
      " 4   Author                   0 non-null      object \n",
      " 5   Print ISSN               2190 non-null   object \n",
      " 6   Online ISSN              2213 non-null   object \n",
      " 7   Print ISBN               0 non-null      float64\n",
      " 8   Online ISBN              0 non-null      float64\n",
      " 9   Homepage URL             2215 non-null   object \n",
      " 10  List of Issues URL       2215 non-null   object \n",
      " 11  Open URL                 2215 non-null   object \n",
      " 12  Online Publication Date  0 non-null      object \n",
      " 13  Journal Start Year       2211 non-null   float64\n",
      " 14  Journal End Year         2215 non-null   float64\n",
      " 15  Back File End Year       1356 non-null   float64\n",
      " 16  Front File Start Year    1356 non-null   float64\n",
      " 17  Content Start Date       2215 non-null   object \n",
      " 18  Content End Date         2215 non-null   object \n",
      " 19  License Start Date       2215 non-null   object \n",
      " 20  License End Date         2215 non-null   object \n",
      " 21  Metric_Type              1628 non-null   object \n",
      " 22  Reporting_Period_Total   1628 non-null   float64\n",
      " 23  currently_published      1495 non-null   object \n",
      "dtypes: float64(7), object(17)\n",
      "memory usage: 432.6+ KB\n"
     ]
    }
   ],
   "source": [
    "df04 = df01_TMP01.merge(df02_TMP02, on = ['DOI'], how = 'left')\n",
    "\n",
    "df05 = df04.merge(df03_TMP01, on = ['DOI'], how = 'left')\n",
    "\n",
    "df05.info()"
   ]
  },
  {
   "cell_type": "code",
   "execution_count": 36,
   "metadata": {},
   "outputs": [],
   "source": [
    "df05[['Reporting_Period_Total']] = df05[['Reporting_Period_Total']].fillna(value = 0)\n",
    "\n",
    "df05[['currently_published']] = df05[['currently_published']].fillna(value = False)"
   ]
  },
  {
   "cell_type": "code",
   "execution_count": 31,
   "metadata": {},
   "outputs": [
    {
     "data": {
      "text/plain": [
       "count    2215.000000\n",
       "mean      117.479910\n",
       "std       335.846438\n",
       "min         0.000000\n",
       "25%         0.000000\n",
       "50%        17.000000\n",
       "75%        98.500000\n",
       "max      8962.000000\n",
       "Name: Reporting_Period_Total, dtype: float64"
      ]
     },
     "execution_count": 31,
     "metadata": {},
     "output_type": "execute_result"
    }
   ],
   "source": [
    "df05['Reporting_Period_Total'].describe()"
   ]
  },
  {
   "cell_type": "code",
   "execution_count": 39,
   "metadata": {},
   "outputs": [
    {
     "data": {
      "text/plain": [
       "array([[<matplotlib.axes._subplots.AxesSubplot object at 0x7fd1f9b5cf10>]],\n",
       "      dtype=object)"
      ]
     },
     "execution_count": 39,
     "metadata": {},
     "output_type": "execute_result"
    },
    {
     "data": {
      "image/png": "[encoded data removed]",
      "text/plain": [
       "<Figure size 864x576 with 1 Axes>"
      ]
     },
     "metadata": {
      "needs_background": "light"
     },
     "output_type": "display_data"
    }
   ],
   "source": [
    "df05.hist(column = 'Reporting_Period_Total', figsize = (12, 8))"
   ]
  },
  {
   "cell_type": "code",
   "execution_count": 37,
   "metadata": {},
   "outputs": [
    {
     "data": {
      "text/plain": [
       "count    720.000000\n",
       "mean       9.938889\n",
       "std       41.697021\n",
       "min        0.000000\n",
       "25%        0.000000\n",
       "50%        0.000000\n",
       "75%        2.000000\n",
       "max      761.000000\n",
       "Name: Reporting_Period_Total, dtype: float64"
      ]
     },
     "execution_count": 37,
     "metadata": {},
     "output_type": "execute_result"
    }
   ],
   "source": [
    "df06 = df05[df05['currently_published'] == False]\n",
    "\n",
    "df06['Reporting_Period_Total'].describe()"
   ]
  },
  {
   "cell_type": "code",
   "execution_count": 40,
   "metadata": {},
   "outputs": [
    {
     "data": {
      "text/plain": [
       "array([[<matplotlib.axes._subplots.AxesSubplot object at 0x7fd1f9a6de20>]],\n",
       "      dtype=object)"
      ]
     },
     "execution_count": 40,
     "metadata": {},
     "output_type": "execute_result"
    },
    {
     "data": {
      "image/png": "[encoded data removed]",
      "text/plain": [
       "<Figure size 864x576 with 1 Axes>"
      ]
     },
     "metadata": {
      "needs_background": "light"
     },
     "output_type": "display_data"
    }
   ],
   "source": [
    "df06.hist(column = 'Reporting_Period_Total', figsize = (12, 8))"
   ]
  },
  {
   "cell_type": "code",
   "execution_count": null,
   "metadata": {},
   "outputs": [],
   "source": []
  }
 ],
 "metadata": {
  "kernelspec": {
   "display_name": "Python 3",
   "language": "python",
   "name": "python3"
  },
  "language_info": {
   "codemirror_mode": {
    "name": "ipython",
    "version": 3
   },
   "file_extension": ".py",
   "mimetype": "text/x-python",
   "name": "python",
   "nbconvert_exporter": "python",
   "pygments_lexer": "ipython3",
   "version": "3.8.1"
  }
 },
 "nbformat": 4,
 "nbformat_minor": 4
}
