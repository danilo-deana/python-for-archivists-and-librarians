{
 "cells": [
  {
   "cell_type": "markdown",
   "metadata": {},
   "source": [
    "# Pandas"
   ]
  },
  {
   "cell_type": "markdown",
   "metadata": {},
   "source": [
    "I documenti in formato csv sono utilizzati per scanbiare dati tra applicazione."
   ]
  },
  {
   "cell_type": "markdown",
   "metadata": {},
   "source": [
    "La struttura di un documento in formato csv è simile a quella delle tabelle di un database o dei fogli di calcolo. Ogni riga contiene l'elenco dei valori relativi alla caratteristiche di un determinato oggetto. La prima riga contiene le etichette delle colonne."
   ]
  },
  {
   "cell_type": "markdown",
   "metadata": {},
   "source": [
    "Esiste una specifica libreria chiamata pandas (da panel data) per l'analisi dei dati. Essa permette di leggere, manpolare e fondere tra loro documenti in formato csv."
   ]
  },
  {
   "cell_type": "markdown",
   "metadata": {},
   "source": [
    "# Lettura"
   ]
  },
  {
   "cell_type": "code",
   "execution_count": 1,
   "metadata": {},
   "outputs": [
    {
     "data": {
      "text/html": [
       "<div>\n",
       "<style scoped>\n",
       "    .dataframe tbody tr th:only-of-type {\n",
       "        vertical-align: middle;\n",
       "    }\n",
       "\n",
       "    .dataframe tbody tr th {\n",
       "        vertical-align: top;\n",
       "    }\n",
       "\n",
       "    .dataframe thead th {\n",
       "        text-align: right;\n",
       "    }\n",
       "</style>\n",
       "<table border=\"1\" class=\"dataframe\">\n",
       "  <thead>\n",
       "    <tr style=\"text-align: right;\">\n",
       "      <th></th>\n",
       "      <th>id</th>\n",
       "      <th>Title</th>\n",
       "      <th>Authors</th>\n",
       "      <th>DOI</th>\n",
       "      <th>URL</th>\n",
       "      <th>Subjects</th>\n",
       "      <th>ISSNs</th>\n",
       "      <th>Citation</th>\n",
       "      <th>LanguageId</th>\n",
       "      <th>LicenceId</th>\n",
       "      <th>Author_Count</th>\n",
       "      <th>First_Author</th>\n",
       "      <th>Citation_Count</th>\n",
       "      <th>Day</th>\n",
       "      <th>Month</th>\n",
       "      <th>Year</th>\n",
       "    </tr>\n",
       "  </thead>\n",
       "  <tbody>\n",
       "    <tr>\n",
       "      <th>0</th>\n",
       "      <td>0</td>\n",
       "      <td>The Fisher Thermodynamics of Quasi-Probabilities</td>\n",
       "      <td>Flavia Pennini|Angelo Plastino</td>\n",
       "      <td>10.3390/e17127853</td>\n",
       "      <td>https://doaj.org/article/b75e8d5cca3f46cbbd63e...</td>\n",
       "      <td>Fisher information|quasi-probabilities|complem...</td>\n",
       "      <td>1099-4300</td>\n",
       "      <td>Entropy, Vol 17, Iss 12, Pp 7848-7858 (2015)</td>\n",
       "      <td>1</td>\n",
       "      <td>1</td>\n",
       "      <td>2</td>\n",
       "      <td>Flavia Pennini</td>\n",
       "      <td>4</td>\n",
       "      <td>1</td>\n",
       "      <td>11</td>\n",
       "      <td>2015</td>\n",
       "    </tr>\n",
       "    <tr>\n",
       "      <th>1</th>\n",
       "      <td>1</td>\n",
       "      <td>Aflatoxin Contamination of the Milk Supply: A ...</td>\n",
       "      <td>Naveed Aslam|Peter C. Wynn</td>\n",
       "      <td>10.3390/agriculture5041172</td>\n",
       "      <td>https://doaj.org/article/0edc5af6672641c0bd456...</td>\n",
       "      <td>aflatoxins|AFM1|AFB1|milk marketing chains|hep...</td>\n",
       "      <td>2077-0472</td>\n",
       "      <td>Agriculture (Basel), Vol 5, Iss 4, Pp 1172-118...</td>\n",
       "      <td>1</td>\n",
       "      <td>1</td>\n",
       "      <td>2</td>\n",
       "      <td>Naveed Aslam</td>\n",
       "      <td>5</td>\n",
       "      <td>1</td>\n",
       "      <td>11</td>\n",
       "      <td>2015</td>\n",
       "    </tr>\n",
       "    <tr>\n",
       "      <th>2</th>\n",
       "      <td>2</td>\n",
       "      <td>Metagenomic Analysis of Upwelling-Affected Bra...</td>\n",
       "      <td>Rafael R. C. Cuadrat|Juliano C. Cury|Alberto M...</td>\n",
       "      <td>10.3390/ijms161226101</td>\n",
       "      <td>https://doaj.org/article/d9fe469f75a0442382b84...</td>\n",
       "      <td>PKS|NRPS|metagenomics|environmental genomics|u...</td>\n",
       "      <td>1422-0067</td>\n",
       "      <td>International Journal of Molecular Sciences, V...</td>\n",
       "      <td>1</td>\n",
       "      <td>1</td>\n",
       "      <td>3</td>\n",
       "      <td>Rafael R. C. Cuadrat</td>\n",
       "      <td>8</td>\n",
       "      <td>1</td>\n",
       "      <td>11</td>\n",
       "      <td>2015</td>\n",
       "    </tr>\n",
       "    <tr>\n",
       "      <th>3</th>\n",
       "      <td>3</td>\n",
       "      <td>Synthesis and Reactivity of a Cerium(III) Scor...</td>\n",
       "      <td>Fabrizio Ortu|Hao Zhu|Marie-Emmanuelle Boulon|...</td>\n",
       "      <td>10.3390/inorganics3040534</td>\n",
       "      <td>https://doaj.org/article/95606ed39deb4f43b96f7...</td>\n",
       "      <td>lanthanide|cerium|scorpionate|tris(pyrazolyl)b...</td>\n",
       "      <td>2304-6740</td>\n",
       "      <td>Inorganics (Basel), Vol 3, Iss 4, Pp 534-553 (...</td>\n",
       "      <td>1</td>\n",
       "      <td>1</td>\n",
       "      <td>4</td>\n",
       "      <td>Fabrizio Ortu</td>\n",
       "      <td>5</td>\n",
       "      <td>1</td>\n",
       "      <td>11</td>\n",
       "      <td>2015</td>\n",
       "    </tr>\n",
       "    <tr>\n",
       "      <th>4</th>\n",
       "      <td>4</td>\n",
       "      <td>Performance and Uncertainty Evaluation of Snow...</td>\n",
       "      <td>Magali Troin|Richard Arsenault|François Brissette</td>\n",
       "      <td>10.3390/hydrology2040289</td>\n",
       "      <td>https://doaj.org/article/18b1d70730d44573ab5c2...</td>\n",
       "      <td>snow models|hydrological models|snowmelt|uncer...</td>\n",
       "      <td>2306-5338</td>\n",
       "      <td>Hydrology, Vol 2, Iss 4, Pp 289-317 (2015)</td>\n",
       "      <td>1</td>\n",
       "      <td>1</td>\n",
       "      <td>3</td>\n",
       "      <td>Magali Troin</td>\n",
       "      <td>4</td>\n",
       "      <td>1</td>\n",
       "      <td>11</td>\n",
       "      <td>2015</td>\n",
       "    </tr>\n",
       "  </tbody>\n",
       "</table>\n",
       "</div>"
      ],
      "text/plain": [
       "   id                                              Title  \\\n",
       "0   0   The Fisher Thermodynamics of Quasi-Probabilities   \n",
       "1   1  Aflatoxin Contamination of the Milk Supply: A ...   \n",
       "2   2  Metagenomic Analysis of Upwelling-Affected Bra...   \n",
       "3   3  Synthesis and Reactivity of a Cerium(III) Scor...   \n",
       "4   4  Performance and Uncertainty Evaluation of Snow...   \n",
       "\n",
       "                                             Authors  \\\n",
       "0                     Flavia Pennini|Angelo Plastino   \n",
       "1                         Naveed Aslam|Peter C. Wynn   \n",
       "2  Rafael R. C. Cuadrat|Juliano C. Cury|Alberto M...   \n",
       "3  Fabrizio Ortu|Hao Zhu|Marie-Emmanuelle Boulon|...   \n",
       "4  Magali Troin|Richard Arsenault|François Brissette   \n",
       "\n",
       "                          DOI  \\\n",
       "0           10.3390/e17127853   \n",
       "1  10.3390/agriculture5041172   \n",
       "2       10.3390/ijms161226101   \n",
       "3   10.3390/inorganics3040534   \n",
       "4    10.3390/hydrology2040289   \n",
       "\n",
       "                                                 URL  \\\n",
       "0  https://doaj.org/article/b75e8d5cca3f46cbbd63e...   \n",
       "1  https://doaj.org/article/0edc5af6672641c0bd456...   \n",
       "2  https://doaj.org/article/d9fe469f75a0442382b84...   \n",
       "3  https://doaj.org/article/95606ed39deb4f43b96f7...   \n",
       "4  https://doaj.org/article/18b1d70730d44573ab5c2...   \n",
       "\n",
       "                                            Subjects      ISSNs  \\\n",
       "0  Fisher information|quasi-probabilities|complem...  1099-4300   \n",
       "1  aflatoxins|AFM1|AFB1|milk marketing chains|hep...  2077-0472   \n",
       "2  PKS|NRPS|metagenomics|environmental genomics|u...  1422-0067   \n",
       "3  lanthanide|cerium|scorpionate|tris(pyrazolyl)b...  2304-6740   \n",
       "4  snow models|hydrological models|snowmelt|uncer...  2306-5338   \n",
       "\n",
       "                                            Citation  LanguageId  LicenceId  \\\n",
       "0       Entropy, Vol 17, Iss 12, Pp 7848-7858 (2015)           1          1   \n",
       "1  Agriculture (Basel), Vol 5, Iss 4, Pp 1172-118...           1          1   \n",
       "2  International Journal of Molecular Sciences, V...           1          1   \n",
       "3  Inorganics (Basel), Vol 3, Iss 4, Pp 534-553 (...           1          1   \n",
       "4         Hydrology, Vol 2, Iss 4, Pp 289-317 (2015)           1          1   \n",
       "\n",
       "   Author_Count          First_Author  Citation_Count  Day  Month  Year  \n",
       "0             2        Flavia Pennini               4    1     11  2015  \n",
       "1             2          Naveed Aslam               5    1     11  2015  \n",
       "2             3  Rafael R. C. Cuadrat               8    1     11  2015  \n",
       "3             4         Fabrizio Ortu               5    1     11  2015  \n",
       "4             3          Magali Troin               4    1     11  2015  "
      ]
     },
     "execution_count": 1,
     "metadata": {},
     "output_type": "execute_result"
    }
   ],
   "source": [
    "import pandas as pd\n",
    "\n",
    "df = pd.read_csv(\"csv/articles.csv\")\n",
    "\n",
    "df.head()"
   ]
  },
  {
   "cell_type": "markdown",
   "metadata": {},
   "source": [
    "# Informazioni generali"
   ]
  },
  {
   "cell_type": "code",
   "execution_count": 11,
   "metadata": {},
   "outputs": [
    {
     "name": "stdout",
     "output_type": "stream",
     "text": [
      "<class 'pandas.core.frame.DataFrame'>\n",
      "RangeIndex: 1001 entries, 0 to 1000\n",
      "Data columns (total 16 columns):\n",
      " #   Column          Non-Null Count  Dtype \n",
      "---  ------          --------------  ----- \n",
      " 0   id              1001 non-null   int64 \n",
      " 1   Title           1001 non-null   object\n",
      " 2   Authors         1001 non-null   object\n",
      " 3   DOI             978 non-null    object\n",
      " 4   URL             1001 non-null   object\n",
      " 5   Subjects        1001 non-null   object\n",
      " 6   ISSNs           1001 non-null   object\n",
      " 7   Citation        1001 non-null   object\n",
      " 8   LanguageId      1001 non-null   int64 \n",
      " 9   LicenceId       1001 non-null   int64 \n",
      " 10  Author_Count    1001 non-null   int64 \n",
      " 11  First_Author    1001 non-null   object\n",
      " 12  Citation_Count  1001 non-null   int64 \n",
      " 13  Day             1001 non-null   int64 \n",
      " 14  Month           1001 non-null   int64 \n",
      " 15  Year            1001 non-null   int64 \n",
      "dtypes: int64(8), object(8)\n",
      "memory usage: 125.2+ KB\n"
     ]
    }
   ],
   "source": [
    "df.info()"
   ]
  },
  {
   "cell_type": "markdown",
   "metadata": {},
   "source": [
    "# Distribuzione degli articoli per numero di autori"
   ]
  },
  {
   "cell_type": "code",
   "execution_count": 20,
   "metadata": {},
   "outputs": [
    {
     "data": {
      "text/plain": [
       "count    1001.000000\n",
       "mean        4.004995\n",
       "std         1.612754\n",
       "min         1.000000\n",
       "25%         3.000000\n",
       "50%         4.000000\n",
       "75%         5.000000\n",
       "max        16.000000\n",
       "Name: Author_Count, dtype: float64"
      ]
     },
     "execution_count": 20,
     "metadata": {},
     "output_type": "execute_result"
    }
   ],
   "source": [
    "import pandas as pd\n",
    "\n",
    "df = pd.read_csv(\"csv/articles.csv\")\n",
    "\n",
    "df['Author_Count'].describe()"
   ]
  },
  {
   "cell_type": "code",
   "execution_count": 22,
   "metadata": {},
   "outputs": [
    {
     "data": {
      "text/plain": [
       "array([[<matplotlib.axes._subplots.AxesSubplot object at 0x7fc5666c5730>]],\n",
       "      dtype=object)"
      ]
     },
     "execution_count": 22,
     "metadata": {},
     "output_type": "execute_result"
    },
    {
     "data": {
      "image/png": "[encoded data removed]",
      "text/plain": [
       "<Figure size 432x288 with 1 Axes>"
      ]
     },
     "metadata": {
      "needs_background": "light"
     },
     "output_type": "display_data"
    }
   ],
   "source": [
    "import pandas as pd\n",
    "\n",
    "df = pd.read_csv(\"csv/articles.csv\")\n",
    "\n",
    "df.hist(['Author_Count'], bins = 16)"
   ]
  },
  {
   "cell_type": "markdown",
   "metadata": {},
   "source": [
    "# Distribuzione degli articoli per lingua"
   ]
  },
  {
   "cell_type": "code",
   "execution_count": 24,
   "metadata": {},
   "outputs": [
    {
     "data": {
      "text/plain": [
       "<matplotlib.axes._subplots.AxesSubplot at 0x7fc567226790>"
      ]
     },
     "execution_count": 24,
     "metadata": {},
     "output_type": "execute_result"
    },
    {
     "data": {
      "image/png": "[encoded data removed]",
      "text/plain": [
       "<Figure size 432x288 with 1 Axes>"
      ]
     },
     "metadata": {
      "needs_background": "light"
     },
     "output_type": "display_data"
    }
   ],
   "source": [
    "import pandas as pd\n",
    "\n",
    "df = pd.read_csv('csv/articles.csv')\n",
    "\n",
    "df['LanguageId'].value_counts().plot(kind = 'bar', grid = True)"
   ]
  },
  {
   "cell_type": "markdown",
   "metadata": {},
   "source": [
    "# Selezione"
   ]
  },
  {
   "cell_type": "code",
   "execution_count": 32,
   "metadata": {},
   "outputs": [
    {
     "data": {
      "text/html": [
       "<div>\n",
       "<style scoped>\n",
       "    .dataframe tbody tr th:only-of-type {\n",
       "        vertical-align: middle;\n",
       "    }\n",
       "\n",
       "    .dataframe tbody tr th {\n",
       "        vertical-align: top;\n",
       "    }\n",
       "\n",
       "    .dataframe thead th {\n",
       "        text-align: right;\n",
       "    }\n",
       "</style>\n",
       "<table border=\"1\" class=\"dataframe\">\n",
       "  <thead>\n",
       "    <tr style=\"text-align: right;\">\n",
       "      <th></th>\n",
       "      <th>id</th>\n",
       "      <th>Title</th>\n",
       "      <th>Authors</th>\n",
       "      <th>DOI</th>\n",
       "      <th>URL</th>\n",
       "      <th>Subjects</th>\n",
       "      <th>ISSNs</th>\n",
       "      <th>Citation</th>\n",
       "      <th>LanguageId</th>\n",
       "      <th>LicenceId</th>\n",
       "      <th>Author_Count</th>\n",
       "      <th>First_Author</th>\n",
       "      <th>Citation_Count</th>\n",
       "      <th>Day</th>\n",
       "      <th>Month</th>\n",
       "      <th>Year</th>\n",
       "    </tr>\n",
       "  </thead>\n",
       "  <tbody>\n",
       "    <tr>\n",
       "      <th>111</th>\n",
       "      <td>111</td>\n",
       "      <td>Las asociaciones de ostrácodos en secuencias a...</td>\n",
       "      <td>Martínez-García, B.|Suarez-Hernando, O.|Rodríg...</td>\n",
       "      <td>10.3989/egeol.42054.367</td>\n",
       "      <td>https://doaj.org/article/a3b8430413924fcba2a20...</td>\n",
       "      <td>Ostracods| Alluvial sequences| Environmental c...</td>\n",
       "      <td>0367-0449|1988-3250</td>\n",
       "      <td>Estudios Geologicos, Vol 71, Iss 2, p e042 (2015)</td>\n",
       "      <td>3</td>\n",
       "      <td>4</td>\n",
       "      <td>9</td>\n",
       "      <td>Martínez-García, B.</td>\n",
       "      <td>4</td>\n",
       "      <td>1</td>\n",
       "      <td>12</td>\n",
       "      <td>2015</td>\n",
       "    </tr>\n",
       "    <tr>\n",
       "      <th>115</th>\n",
       "      <td>115</td>\n",
       "      <td>Estudio espectroscópico y DRX de afloramientos...</td>\n",
       "      <td>Lalla, E. A.|López-Reyes, G.|Sansano, A.|Sanz-...</td>\n",
       "      <td>10.3989/egeol.41927.354</td>\n",
       "      <td>https://doaj.org/article/1e79eb5df7b2411abf681...</td>\n",
       "      <td>Volcanology| Raman Spectroscopy| Mössbauer Spe...</td>\n",
       "      <td>0367-0449|1988-3250</td>\n",
       "      <td>Estudios Geologicos, Vol 71, Iss 2, p e035 (2015)</td>\n",
       "      <td>3</td>\n",
       "      <td>4</td>\n",
       "      <td>9</td>\n",
       "      <td>Lalla, E. A.</td>\n",
       "      <td>4</td>\n",
       "      <td>1</td>\n",
       "      <td>12</td>\n",
       "      <td>2015</td>\n",
       "    </tr>\n",
       "    <tr>\n",
       "      <th>116</th>\n",
       "      <td>116</td>\n",
       "      <td>Agregación de sedimentos en una cuenca de llan...</td>\n",
       "      <td>Suarez, P.|Orfeo, O.</td>\n",
       "      <td>10.3989/egeol.42054.366</td>\n",
       "      <td>https://doaj.org/article/7e837f79e14b49a19322e...</td>\n",
       "      <td>Sediment aggregation| Subtropical rivers| Gran...</td>\n",
       "      <td>0367-0449|1988-3250</td>\n",
       "      <td>Estudios Geologicos, Vol 71, Iss 2, p e038 (2015)</td>\n",
       "      <td>3</td>\n",
       "      <td>4</td>\n",
       "      <td>2</td>\n",
       "      <td>Suarez, P.</td>\n",
       "      <td>4</td>\n",
       "      <td>1</td>\n",
       "      <td>12</td>\n",
       "      <td>2015</td>\n",
       "    </tr>\n",
       "    <tr>\n",
       "      <th>117</th>\n",
       "      <td>117</td>\n",
       "      <td>Origen y funcionamiento hidrogeológico del úni...</td>\n",
       "      <td>Martín-Loeches Garrido, M.|Pavón García, J.|Ga...</td>\n",
       "      <td>10.3989/egeol.41989.356</td>\n",
       "      <td>https://doaj.org/article/82e805c16da84f58bcdb5...</td>\n",
       "      <td>Wetland| Madrid aquifer| Henares river middle ...</td>\n",
       "      <td>0367-0449|1988-3250</td>\n",
       "      <td>Estudios Geologicos, Vol 71, Iss 2, p e037 (2015)</td>\n",
       "      <td>3</td>\n",
       "      <td>4</td>\n",
       "      <td>3</td>\n",
       "      <td>Martín-Loeches Garrido, M.</td>\n",
       "      <td>4</td>\n",
       "      <td>1</td>\n",
       "      <td>12</td>\n",
       "      <td>2015</td>\n",
       "    </tr>\n",
       "    <tr>\n",
       "      <th>118</th>\n",
       "      <td>118</td>\n",
       "      <td>Los gonfotéridos (Mammalia, Proboscidea) de Ur...</td>\n",
       "      <td>Perea, D.|Alberdi, M. T.</td>\n",
       "      <td>10.3989/egeol.41864.346</td>\n",
       "      <td>https://doaj.org/article/35b30f904a0f4658aa6e5...</td>\n",
       "      <td>Gomphotheriidae| Stegomastodon platensis| Urug...</td>\n",
       "      <td>0367-0449|1988-3250</td>\n",
       "      <td>Estudios Geologicos, Vol 71, Iss 2, p e036 (2015)</td>\n",
       "      <td>3</td>\n",
       "      <td>4</td>\n",
       "      <td>2</td>\n",
       "      <td>Perea, D.</td>\n",
       "      <td>4</td>\n",
       "      <td>1</td>\n",
       "      <td>12</td>\n",
       "      <td>2015</td>\n",
       "    </tr>\n",
       "  </tbody>\n",
       "</table>\n",
       "</div>"
      ],
      "text/plain": [
       "      id                                              Title  \\\n",
       "111  111  Las asociaciones de ostrácodos en secuencias a...   \n",
       "115  115  Estudio espectroscópico y DRX de afloramientos...   \n",
       "116  116  Agregación de sedimentos en una cuenca de llan...   \n",
       "117  117  Origen y funcionamiento hidrogeológico del úni...   \n",
       "118  118  Los gonfotéridos (Mammalia, Proboscidea) de Ur...   \n",
       "\n",
       "                                               Authors  \\\n",
       "111  Martínez-García, B.|Suarez-Hernando, O.|Rodríg...   \n",
       "115  Lalla, E. A.|López-Reyes, G.|Sansano, A.|Sanz-...   \n",
       "116                               Suarez, P.|Orfeo, O.   \n",
       "117  Martín-Loeches Garrido, M.|Pavón García, J.|Ga...   \n",
       "118                           Perea, D.|Alberdi, M. T.   \n",
       "\n",
       "                         DOI  \\\n",
       "111  10.3989/egeol.42054.367   \n",
       "115  10.3989/egeol.41927.354   \n",
       "116  10.3989/egeol.42054.366   \n",
       "117  10.3989/egeol.41989.356   \n",
       "118  10.3989/egeol.41864.346   \n",
       "\n",
       "                                                   URL  \\\n",
       "111  https://doaj.org/article/a3b8430413924fcba2a20...   \n",
       "115  https://doaj.org/article/1e79eb5df7b2411abf681...   \n",
       "116  https://doaj.org/article/7e837f79e14b49a19322e...   \n",
       "117  https://doaj.org/article/82e805c16da84f58bcdb5...   \n",
       "118  https://doaj.org/article/35b30f904a0f4658aa6e5...   \n",
       "\n",
       "                                              Subjects                ISSNs  \\\n",
       "111  Ostracods| Alluvial sequences| Environmental c...  0367-0449|1988-3250   \n",
       "115  Volcanology| Raman Spectroscopy| Mössbauer Spe...  0367-0449|1988-3250   \n",
       "116  Sediment aggregation| Subtropical rivers| Gran...  0367-0449|1988-3250   \n",
       "117  Wetland| Madrid aquifer| Henares river middle ...  0367-0449|1988-3250   \n",
       "118  Gomphotheriidae| Stegomastodon platensis| Urug...  0367-0449|1988-3250   \n",
       "\n",
       "                                              Citation  LanguageId  LicenceId  \\\n",
       "111  Estudios Geologicos, Vol 71, Iss 2, p e042 (2015)           3          4   \n",
       "115  Estudios Geologicos, Vol 71, Iss 2, p e035 (2015)           3          4   \n",
       "116  Estudios Geologicos, Vol 71, Iss 2, p e038 (2015)           3          4   \n",
       "117  Estudios Geologicos, Vol 71, Iss 2, p e037 (2015)           3          4   \n",
       "118  Estudios Geologicos, Vol 71, Iss 2, p e036 (2015)           3          4   \n",
       "\n",
       "     Author_Count                First_Author  Citation_Count  Day  Month  \\\n",
       "111             9         Martínez-García, B.               4    1     12   \n",
       "115             9                Lalla, E. A.               4    1     12   \n",
       "116             2                  Suarez, P.               4    1     12   \n",
       "117             3  Martín-Loeches Garrido, M.               4    1     12   \n",
       "118             2                   Perea, D.               4    1     12   \n",
       "\n",
       "     Year  \n",
       "111  2015  \n",
       "115  2015  \n",
       "116  2015  \n",
       "117  2015  \n",
       "118  2015  "
      ]
     },
     "execution_count": 32,
     "metadata": {},
     "output_type": "execute_result"
    }
   ],
   "source": [
    "import pandas as pd\n",
    "\n",
    "df = pd.read_csv(\"csv/articles.csv\")\n",
    "\n",
    "dfTMP = df[df['LanguageId'] == 3]\n",
    "\n",
    "dfTMP.head()"
   ]
  },
  {
   "cell_type": "code",
   "execution_count": null,
   "metadata": {},
   "outputs": [],
   "source": []
  }
 ],
 "metadata": {
  "kernelspec": {
   "display_name": "Python 3",
   "language": "python",
   "name": "python3"
  },
  "language_info": {
   "codemirror_mode": {
    "name": "ipython",
    "version": 3
   },
   "file_extension": ".py",
   "mimetype": "text/x-python",
   "name": "python",
   "nbconvert_exporter": "python",
   "pygments_lexer": "ipython3",
   "version": "3.8.1"
  }
 },
 "nbformat": 4,
 "nbformat_minor": 4
}
