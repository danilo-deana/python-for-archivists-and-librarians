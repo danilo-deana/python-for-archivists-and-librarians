{
 "cells": [
  {
   "cell_type": "markdown",
   "metadata": {},
   "source": [
    "# Funzioni"
   ]
  },
  {
   "cell_type": "markdown",
   "metadata": {},
   "source": [
    "Una libreria è un'imsieme di funzioni che si aggiungono a quelle già disponibili. Per poter essere utilizzata una libreria deve prima essere importata."
   ]
  },
  {
   "cell_type": "code",
   "execution_count": null,
   "metadata": {},
   "outputs": [],
   "source": [
    "import os"
   ]
  },
  {
   "cell_type": "markdown",
   "metadata": {},
   "source": [
    "# Liste"
   ]
  },
  {
   "cell_type": "markdown",
   "metadata": {},
   "source": [
    "Una lista è un elenco di elementi in un particolare ordine."
   ]
  },
  {
   "cell_type": "code",
   "execution_count": 8,
   "metadata": {},
   "outputs": [
    {
     "name": "stdout",
     "output_type": "stream",
     "text": [
      "Pippo\n"
     ]
    }
   ],
   "source": [
    "personaggi = ['Pippo', 'Pluto', 'Paperino', 'Qui', 'Quo', 'Qua', 'Zio Paperone']\n",
    "\n",
    "print(personaggi[0])"
   ]
  },
  {
   "cell_type": "markdown",
   "metadata": {},
   "source": [
    "# For"
   ]
  },
  {
   "cell_type": "markdown",
   "metadata": {},
   "source": [
    "L'istruzione for esegue un'iterazione sugli elementi di una sequenza nell'ordine in cui essi sono inseriti."
   ]
  },
  {
   "cell_type": "code",
   "execution_count": 6,
   "metadata": {},
   "outputs": [
    {
     "name": "stdout",
     "output_type": "stream",
     "text": [
      "Pippo\n",
      "Pluto\n",
      "Paperino\n",
      "Qui\n",
      "Quo\n",
      "Qua\n"
     ]
    }
   ],
   "source": [
    "for personaggio in personaggi:\n",
    "        print(personaggio)"
   ]
  },
  {
   "cell_type": "markdown",
   "metadata": {},
   "source": [
    "# Elenco dei documenti contenuti in una cartella"
   ]
  },
  {
   "cell_type": "code",
   "execution_count": 4,
   "metadata": {},
   "outputs": [
    {
     "name": "stdout",
     "output_type": "stream",
     "text": [
      "doaj/\n",
      "[]\n",
      "['articles.csv', 'articles_Py_AL.csv', 'Credits.txt', 'journals.csv', 'languages.csv', 'licences.csv', 'publishers.csv']\n",
      "doaj/Credits.txt\n",
      "doaj/articles.csv\n",
      "doaj/articles_Py_AL.csv\n",
      "doaj/journals.csv\n",
      "doaj/languages.csv\n",
      "doaj/licences.csv\n",
      "doaj/publishers.csv\n"
     ]
    }
   ],
   "source": [
    "import os\n",
    "\n",
    "documenti = []\n",
    "\n",
    "for root, directories, files in os.walk('doaj/'):\n",
    "    print(root)\n",
    "    print(directories)\n",
    "    print(files)\n",
    "    for file in files:\n",
    "        documenti.append(os.path.join(root, file))\n",
    "        \n",
    "documenti.sort()\n",
    "\n",
    "for documento in documenti:\n",
    "    print(documento)"
   ]
  },
  {
   "cell_type": "markdown",
   "metadata": {},
   "source": [
    "# Apertura di un documento in sola lettura"
   ]
  },
  {
   "cell_type": "code",
   "execution_count": 2,
   "metadata": {},
   "outputs": [
    {
     "name": "stdout",
     "output_type": "stream",
     "text": [
      "\n",
      "\n",
      "\n",
      "\n",
      "This data was create with help from:\n",
      "\n",
      "\n",
      "\n",
      " - Matthias Liffers\n",
      "\n",
      " - Owen Stephens\n",
      "\n",
      " - Carlos Martinez-Ortiz\n",
      "\n",
      " - Christine Staiger\n",
      "\n",
      " - And many others\n",
      "\n"
     ]
    }
   ],
   "source": [
    "documento = open(\"doaj/Credits.txt\", \"r\")\n",
    "\n",
    "for riga in documento:\n",
    "    print(riga)\n",
    "\n",
    "documento.close()"
   ]
  },
  {
   "cell_type": "markdown",
   "metadata": {},
   "source": [
    "# Creazione di un documento"
   ]
  },
  {
   "cell_type": "code",
   "execution_count": 3,
   "metadata": {},
   "outputs": [],
   "source": [
    "documento = open(\"txt/prova.txt\", \"w\")\n",
    "\n",
    "documento.write('Prima riga' + '\\n')\n",
    "\n",
    "documento.write('Seconda riga')\n",
    "\n",
    "documento.close()"
   ]
  },
  {
   "cell_type": "markdown",
   "metadata": {},
   "source": [
    "# Dizionari"
   ]
  },
  {
   "cell_type": "markdown",
   "metadata": {},
   "source": [
    "Un dizionario è un elenco non ordinato di coppie chiave valore."
   ]
  },
  {
   "cell_type": "code",
   "execution_count": 11,
   "metadata": {},
   "outputs": [],
   "source": [
    "indice_dei_nomi = {'Adorno, Theodor Wiesengrund': 35, 'Aiello, Anna Maria': 187,\n",
    "    'Bloom, Alan': 68}"
   ]
  },
  {
   "cell_type": "code",
   "execution_count": 13,
   "metadata": {},
   "outputs": [
    {
     "data": {
      "text/plain": [
       "35"
      ]
     },
     "execution_count": 13,
     "metadata": {},
     "output_type": "execute_result"
    }
   ],
   "source": [
    "indice_dei_nomi['Adorno, Theodor Wiesengrund']"
   ]
  },
  {
   "cell_type": "markdown",
   "metadata": {},
   "source": [
    "# Occorrenze"
   ]
  },
  {
   "cell_type": "code",
   "execution_count": 10,
   "metadata": {},
   "outputs": [
    {
     "name": "stdout",
     "output_type": "stream",
     "text": [
      "{'This': 1, 'data': 1, 'was': 1, 'create': 1, 'with': 1, 'help': 1, 'from:': 1, '-': 5, 'Matthias': 1, 'Liffers': 1, 'Owen': 1, 'Stephens': 1, 'Carlos': 1, 'Martinez-Ortiz': 1, 'Christine': 1, 'Staiger': 1, 'And': 1, 'many': 1, 'others': 1}\n"
     ]
    }
   ],
   "source": [
    "def occorrenze(stringa):\n",
    "    dizionario = dict()\n",
    "    parole = stringa.split()\n",
    "    for parola in parole:\n",
    "        if parola in dizionario:\n",
    "            dizionario[parola] += 1\n",
    "        else:\n",
    "            dizionario[parola] = 1\n",
    "    return dizionario\n",
    "\n",
    "documento = open(\"doaj/Credits.txt\", \"r\")\n",
    "\n",
    "contenuto = documento.read()\n",
    "\n",
    "dizionario = occorrenze(contenuto)\n",
    "\n",
    "documento.close()\n",
    "\n",
    "print( dizionario)"
   ]
  },
  {
   "cell_type": "markdown",
   "metadata": {},
   "source": [
    "# Workflow occorrenze"
   ]
  },
  {
   "cell_type": "code",
   "execution_count": 11,
   "metadata": {},
   "outputs": [],
   "source": [
    "from collections import defaultdict\n",
    "\n",
    "def occorrenze(stringa):\n",
    "    dizionario = defaultdict(int)\n",
    "    parole = stringa.split()\n",
    "    for parola in parole:\n",
    "            dizionario[parola] += 1\n",
    "    return dizionario\n",
    "\n",
    "documento = open('doaj/Credits.txt', 'r')\n",
    "\n",
    "contenuto = documento.read()\n",
    "\n",
    "dizionario = occorrenze(contenuto)\n",
    "\n",
    "documento.close()"
   ]
  },
  {
   "cell_type": "code",
   "execution_count": 13,
   "metadata": {},
   "outputs": [],
   "source": [
    "import csv\n",
    "\n",
    "destinazione = csv.writer(open('txt/output.csv', 'w'))\n",
    "\n",
    "destinazione.writerow(['word', 'occurrences'])\n",
    "\n",
    "for chiave, valore in dizionario.items():\n",
    "    destinazione.writerow([chiave, valore])"
   ]
  },
  {
   "cell_type": "code",
   "execution_count": 14,
   "metadata": {},
   "outputs": [],
   "source": [
    "import pandas as pd\n",
    "\n",
    "df = pd.read_csv('txt/output.csv')\n",
    "\n",
    "df.sort_values(by = ['word'], axis = 0, inplace = True)\n",
    "\n",
    "df.to_csv('txt/output.csv', index = False)"
   ]
  },
  {
   "cell_type": "markdown",
   "metadata": {},
   "source": [
    "# Esercizi"
   ]
  },
  {
   "cell_type": "markdown",
   "metadata": {},
   "source": [
    "Aprite il documento Credits.txt e copiatene il contenuto nel documento prova.txt."
   ]
  }
 ],
 "metadata": {
  "kernelspec": {
   "display_name": "Python 3",
   "language": "python",
   "name": "python3"
  },
  "language_info": {
   "codemirror_mode": {
    "name": "ipython",
    "version": 3
   },
   "file_extension": ".py",
   "mimetype": "text/x-python",
   "name": "python",
   "nbconvert_exporter": "python",
   "pygments_lexer": "ipython3",
   "version": "3.8.1"
  }
 },
 "nbformat": 4,
 "nbformat_minor": 4
}
